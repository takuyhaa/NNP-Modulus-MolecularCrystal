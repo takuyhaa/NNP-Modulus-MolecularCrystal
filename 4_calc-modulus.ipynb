{
 "cells": [
  {
   "cell_type": "markdown",
   "id": "22b2c93b-6d95-4c44-bb66-310abbd068e5",
   "metadata": {
    "tags": []
   },
   "source": [
    "# Calculate moduli from elastic stiffness tensors\n",
    "\n",
    "**Instruction**  \n",
    "The aim of this notebook is to obtain moduli calculated from elastic stiffness tensors.  \n",
    "Execution of the following code requires `stiffness_tensors_rev.csv`.\n",
    "\n",
    "**Contents**\n",
    "1. Read and split dataset for each method\n",
    "1. Visualize scatter plot"
   ]
  },
  {
   "cell_type": "markdown",
   "id": "9f6c3aee-b736-4f99-8cee-c6c70665b074",
   "metadata": {
    "tags": []
   },
   "source": [
    "## 1. Read and split dataset for each method"
   ]
  },
  {
   "cell_type": "code",
   "execution_count": null,
   "id": "7f3016a5-89ff-40b4-8597-237126165ec2",
   "metadata": {
    "tags": []
   },
   "outputs": [],
   "source": [
    "import pandas as pd\n",
    "import numpy as np\n",
    "from utility import *\n",
    "import matplotlib.pyplot as plt\n",
    "from sklearn.metrics import r2_score, mean_absolute_error\n",
    "plt.rcParams[\"font.family\"] = 'Arial'\n",
    "plt.rcParams[\"font.size\"] = 14"
   ]
  },
  {
   "cell_type": "code",
   "execution_count": null,
   "id": "c4e74a42-0e01-484c-8d92-cebcb5c5b644",
   "metadata": {
    "tags": []
   },
   "outputs": [],
   "source": [
    "df = pd.read_csv('../dataset/stiffness_tensors_rev.csv')\n",
    "print(df.shape)\n",
    "df.head()"
   ]
  },
  {
   "cell_type": "code",
   "execution_count": null,
   "id": "bf51169d-d449-48c0-b3f6-606f2a90a861",
   "metadata": {
    "tags": []
   },
   "outputs": [],
   "source": [
    "moduli = ['E_V', 'E_R', 'E_H', 'E_RH', 'K_V', 'K_R', 'K_H', 'K_RH', 'G_V', 'G_R', 'G_H', 'G_RH', 'n_H', 'A_L']\n",
    "\n",
    "for item in moduli:\n",
    "    df[item] = ''\n",
    "for i in range(df.shape[0]):\n",
    "    res = stiffnesstensor2modulus(np.array(df.iloc[i,3:39]).reshape(6,6))\n",
    "    for j, item in enumerate(moduli):\n",
    "        df.at[i, item] = res[j]\n",
    "df = df.dropna()\n",
    "df = df.reset_index(drop=True)"
   ]
  },
  {
   "cell_type": "code",
   "execution_count": null,
   "id": "ea07ee0b-cd0d-4717-aec1-fe101802ea8a",
   "metadata": {
    "tags": []
   },
   "outputs": [],
   "source": [
    "df_exp = df[df['Method'].str.contains('Exp')]\n",
    "df_hf = df[df['Method'].str.contains('S-HF-3c')]\n",
    "df_dft = df[df['Method'].str.contains('DFT')]\n",
    "df_nnp = df[df['Method'].str.contains('NNP')]"
   ]
  },
  {
   "cell_type": "markdown",
   "id": "1ba56c5d-0339-4a10-9ca0-4fede67ef173",
   "metadata": {
    "tags": []
   },
   "source": [
    "## 2. Visualize scatter plot"
   ]
  },
  {
   "cell_type": "code",
   "execution_count": null,
   "id": "e992deb8-ed55-457e-bd1c-9dcb576e8beb",
   "metadata": {
    "tags": []
   },
   "outputs": [],
   "source": [
    "def plotdata(df_exp, df_calc, prop):\n",
    "    y_exp = []\n",
    "    y_calc = []\n",
    "    names = []\n",
    "    for name in list(df_calc['Compound']):\n",
    "        if name in list(df_exp['Compound']):\n",
    "            y_calc.append(df_calc[df_calc['Compound']==name][prop].values[0])\n",
    "            y_exp.append(df_exp[df_exp['Compound']==name][prop].values.mean())\n",
    "            names.append(name)\n",
    "        \n",
    "    return y_exp, y_calc, names"
   ]
  },
  {
   "cell_type": "code",
   "execution_count": null,
   "id": "893e6406-821f-4945-877c-9b92c3c8ccb6",
   "metadata": {
    "tags": []
   },
   "outputs": [],
   "source": [
    "y_exp, y_calc, names = plotdata(df_exp, df_nnp, 'E_RH')"
   ]
  },
  {
   "cell_type": "code",
   "execution_count": null,
   "id": "624cef37-4e68-494e-beb2-4f67150113ee",
   "metadata": {
    "tags": []
   },
   "outputs": [],
   "source": [
    "mean_absolute_error(y_exp, y_calc)"
   ]
  },
  {
   "cell_type": "code",
   "execution_count": null,
   "id": "7a38c53d-6c4f-4a98-a3e2-06609be9e1ce",
   "metadata": {
    "tags": []
   },
   "outputs": [],
   "source": [
    "def visuzalize(df_exp, df_calc, text=False, figname=None, mode='normal'):\n",
    "    fig = plt.figure(figsize=(12,12))\n",
    "    for i, item in enumerate(moduli):\n",
    "        ax = fig.add_subplot(4, 4, i+1)\n",
    "        y_exp, y_calc, names = plotdata(df_exp, df_calc, item)\n",
    "        if 'NNP' in figname:\n",
    "            color = 'skyblue'\n",
    "        elif 'DFT' in figname:\n",
    "            color = 'green'\n",
    "        elif 'HF' in figname:\n",
    "            color = 'orange'\n",
    "        if mode == 'normal':\n",
    "            ax.scatter(y_exp, y_calc, c=color, ec='k', s=80)\n",
    "            ax.plot([min(y_exp), max(y_exp)], [min(y_exp), max(y_exp)], c='k', linestyle='dashed')\n",
    "            # ax.plot([min(y_calc), max(y_calc)], [min(y_calc), max(y_calc)], c='k', linestyle='dashed')\n",
    "            if 'E' in item or 'K' in item or 'G' in item:\n",
    "                if 'RH' in item:\n",
    "                    item = item[0]+'_{RH}'\n",
    "                ax.set(title=f'${item}$', xlabel=f'Exp. ${item}$ (GPa)', ylabel=f'Calc. ${item}$ (GPa)')\n",
    "            elif 'n_H' in item:\n",
    "                ax.set(title=f'$\\u03BD$', xlabel=f'Exp. $\\u03BD$', ylabel=f'Calc. $\\u03BD$')\n",
    "            else:\n",
    "                ax.set(title=f'$A$', xlabel=f'Exp. $A$', ylabel=f'Calc. $A$')\n",
    "\n",
    "            text = f'MAE: {mean_absolute_error(y_exp, y_calc):.2f}'\n",
    "            ax.text(0.1, 0.95, text, transform=ax.transAxes, horizontalalignment='left', verticalalignment='top')\n",
    "            if text is True:\n",
    "                for i, name in enumerate(names):\n",
    "                    ax.text(y_exp[i], y_calc[i], name)\n",
    "        elif mode == 'error':\n",
    "            error = np.array(y_calc) - np.array(y_exp)\n",
    "            ax.scatter(y_exp, error, c=color, ec='k', s=80)\n",
    "            ax.plot([min(y_exp), max(y_exp)], [0, 0], c='k', linestyle='dashed')\n",
    "            if 'E' in item or 'K' in item or 'G' in item:\n",
    "                ax.set(title=item, xlabel=f'Exp. ${item}$ (GPa)', ylabel='Error (GPa)')\n",
    "            else:\n",
    "                ax.set(title=item, xlabel=f'Exp. ${item}$', ylabel='Error (GPa)')\n",
    "    fig.tight_layout()\n",
    "    if figname is not None:\n",
    "        fig.savefig(figname, dpi=300)\n",
    "    fig.show()"
   ]
  },
  {
   "cell_type": "code",
   "execution_count": null,
   "id": "7c7322c7-8fa7-470d-a0c5-a98813ad6f0c",
   "metadata": {
    "tags": []
   },
   "outputs": [],
   "source": [
    "# NNP\n",
    "visuzalize(df_exp, df_nnp, figname='SAVE_FIG_NAME', mode='normal')\n",
    "# visuzalize(df_exp, df_nnp, figname='SAVE_FIG_NAME', mode='error')\n",
    "\n",
    "# HF\n",
    "visuzalize(df_exp, df_hf, figname='SAVE_FIG_NAME', mode='normal')\n",
    "# visuzalize(df_exp, df_hf, figname='SAVE_FIG_NAME', mode='error')\n",
    "\n",
    "# DFT\n",
    "visuzalize(df_exp, df_dft, figname='SAVE_FIG_NAME', mode='normal')\n",
    "# visuzalize(df_exp, df_dft, figname='SAVE_FIG_NAME', mode='error')"
   ]
  },
  {
   "cell_type": "code",
   "execution_count": null,
   "id": "97d7e77c-794a-430f-bd2a-203f14e85bbb",
   "metadata": {
    "tags": []
   },
   "outputs": [],
   "source": [
    "df.to_csv('./modulus.csv')"
   ]
  },
  {
   "cell_type": "code",
   "execution_count": null,
   "id": "1ef420cc-9fde-4c71-91f1-947f433fe7c6",
   "metadata": {},
   "outputs": [],
   "source": [
    "for col in df_exp.iloc[:,39:].columns:\n",
    "    # mean model\n",
    "    # mae = mean_absolute_error(np.ones(df_exp.shape[0])*df_exp[col].mean(), df_exp[col])\n",
    "    \n",
    "    # PFP\n",
    "    mae = mean_absolute_error(df_nnp[col], df_exp[col])\n",
    "    \n",
    "    print(col, mae)"
   ]
  },
  {
   "cell_type": "code",
   "execution_count": null,
   "id": "ddfc1acd-2f07-41a1-95d5-6100d06396f8",
   "metadata": {},
   "outputs": [],
   "source": [
    "fig = plt.figure(figsize=(6,4.5))\n",
    "ax = fig.add_subplot(111)\n",
    "y_exp, y_calc, names = plotdata(df_exp, df_hf, 'E_RH')\n",
    "ax.scatter(y_exp, y_calc, c='orange', ec='k', s=60, label='S-HF-3c')\n",
    "y_exp, y_calc, names = plotdata(df_exp, df_nnp, 'E_RH')\n",
    "ax.scatter(y_exp, y_calc, c='skyblue', ec='k', s=60, label='PFP')\n",
    "y_exp, y_calc, names = plotdata(df_exp, df_dft, 'E_RH')\n",
    "ax.scatter(y_exp, y_calc, c='green', ec='k', s=60, label='DFT')\n",
    "ax.plot([0, 45], [0, 45], linestyle='dashed', c='k')\n",
    "ax.legend()\n",
    "ax.set(xlabel='Exp. $E_{RH}$ (GPa)', ylabel='Pred. $E_{RH}$ (GPa)',\n",
    "       xlim=(0,45), ylim=(0,100))\n",
    "plt.tight_layout()\n",
    "plt.savefig('SAVE_FIG_NAME.png', dpi=300)"
   ]
  },
  {
   "cell_type": "code",
   "execution_count": null,
   "id": "4eabfdf4-4930-48da-aa9a-cac58a54edd4",
   "metadata": {
    "tags": []
   },
   "outputs": [],
   "source": [
    "fig = plt.figure(figsize=(6,3))\n",
    "ax = fig.add_subplot(111)\n",
    "\n",
    "y_exp, y_calc, names = plotdata(df_exp, df_hf, 'E_RH')\n",
    "error = np.array(y_calc)-np.array(y_exp)\n",
    "ax.scatter(y_exp, error, c='orange', ec='k', s=60, label='S-HF-3c')\n",
    "\n",
    "y_exp, y_calc, names = plotdata(df_exp, df_nnp, 'E_RH')\n",
    "error = np.array(y_calc)-np.array(y_exp)\n",
    "ax.scatter(y_exp, error, c='skyblue', ec='k', s=60, label='PFP')\n",
    "\n",
    "y_exp, y_calc, names = plotdata(df_exp, df_dft, 'E_RH')\n",
    "error = np.array(y_calc)-np.array(y_exp)\n",
    "ax.scatter(y_exp, error, c='green', ec='k', s=60, label='DFT')\n",
    "\n",
    "ax.plot([0, 45], [0, 0], linestyle='dashed', c='k')\n",
    "# ax.legend()\n",
    "ax.set(xlabel='Exp. $E_{RH}$ (GPa)', ylabel='Error (GPa)', xlim=(0,45))\n",
    "plt.tight_layout()\n",
    "plt.savefig('SAVE_FIG_NAME.png', dpi=300)"
   ]
  },
  {
   "cell_type": "code",
   "execution_count": null,
   "id": "54087e40-c51d-4e2d-beb0-5218eae44e93",
   "metadata": {},
   "outputs": [],
   "source": []
  }
 ],
 "metadata": {
  "kernelspec": {
   "display_name": "Python 3 (ipykernel)",
   "language": "python",
   "name": "python3"
  },
  "language_info": {
   "codemirror_mode": {
    "name": "ipython",
    "version": 3
   },
   "file_extension": ".py",
   "mimetype": "text/x-python",
   "name": "python",
   "nbconvert_exporter": "python",
   "pygments_lexer": "ipython3",
   "version": "3.7.0"
  }
 },
 "nbformat": 4,
 "nbformat_minor": 5
}
