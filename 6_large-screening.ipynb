{
 "cells": [
  {
   "cell_type": "markdown",
   "id": "b4aa35c2-bdde-4ef5-b6a9-aa1f700c711b",
   "metadata": {},
   "source": [
    "# Large screening\n",
    "**Instruction**  \n",
    "The aim of this notebook is to vizualize the result of large screening.  \n",
    "The following code requires the result file of screening predicted by NNP."
   ]
  },
  {
   "cell_type": "code",
   "execution_count": null,
   "id": "16788b67-14b3-4727-a6b2-061d9ff9b4c8",
   "metadata": {
    "tags": []
   },
   "outputs": [],
   "source": [
    "import glob\n",
    "import pandas as pd\n",
    "from utility import *\n",
    "import matplotlib.pyplot as plt"
   ]
  },
  {
   "cell_type": "code",
   "execution_count": null,
   "id": "e263a17c-a765-4ba2-a376-b77804945b28",
   "metadata": {
    "tags": []
   },
   "outputs": [],
   "source": [
    "# Read csv file\n",
    "df = pd.read_csv('FILE_NAME.csv')\n",
    "print(df.shape)\n",
    "df.head()"
   ]
  },
  {
   "cell_type": "code",
   "execution_count": null,
   "id": "fcac6307-85c2-4dfe-8fc3-fda9fb6ba9a0",
   "metadata": {
    "tags": []
   },
   "outputs": [],
   "source": [
    "# Calculate deltaV%, remove large deviation\n",
    "df['deltaV'] = (df['opt_V']-df['exp_V'])/df['exp_V']*100\n",
    "df = df[abs(df['deltaV']) <= 20]\n",
    "df = df.iloc[:,:-1].reset_index(drop=True)\n",
    "df.shape"
   ]
  },
  {
   "cell_type": "code",
   "execution_count": null,
   "id": "7e633ce9-86b5-46d2-bf54-5566f29d3054",
   "metadata": {
    "tags": []
   },
   "outputs": [],
   "source": [
    "import warnings\n",
    "warnings.simplefilter('ignore')\n",
    "import pandas as pd\n",
    "import numpy as np\n",
    "\n",
    "def calculate_modulus(row):\n",
    "    try:\n",
    "        tensor = np.array(row[1:37]).reshape(6,6)\n",
    "        res = stiffnesstensor2modulus(tensor)\n",
    "        if any(value < 0 for value in res): # Return NaN when negative data\n",
    "            return pd.Series([np.nan]*len(moduli), index=moduli)\n",
    "        return pd.Series(res, index=moduli)\n",
    "    except:\n",
    "        return pd.Series([np.nan]*len(moduli), index=moduli)\n",
    "\n",
    "moduli = ['E_V', 'E_R', 'E_H', 'E_RH', 'K_V', 'K_R', 'K_H', 'K_RH', 'G_V', 'G_R', 'G_H', 'G_RH', 'n_H', 'A_L']\n",
    "modulus_df = df.apply(calculate_modulus, axis=1)\n",
    "df = pd.concat([df, modulus_df], axis=1)\n",
    "df = df.dropna()\n",
    "df = df.reset_index(drop=True)"
   ]
  },
  {
   "cell_type": "code",
   "execution_count": null,
   "id": "b9c4ea39-f2f5-49c9-a5e1-19e2665baf0e",
   "metadata": {
    "tags": []
   },
   "outputs": [],
   "source": [
    "print('Total', df.shape)\n",
    "df = df.iloc[:5000, :]\n",
    "print('Used', df.shape)"
   ]
  },
  {
   "cell_type": "code",
   "execution_count": null,
   "id": "75aaa9ec-2155-4e06-937f-43c1cacd5ab6",
   "metadata": {
    "tags": []
   },
   "outputs": [],
   "source": [
    "plt.rcParams[\"font.family\"] = 'Arial'\n",
    "plt.rcParams[\"font.size\"] = 12\n",
    "def visuzalize(df_calc, figname=None):\n",
    "    fig = plt.figure(figsize=(12,12))\n",
    "    for i, item in enumerate(moduli):\n",
    "        ax = fig.add_subplot(4, 4, i+1)\n",
    "        y_calc = df_calc[item]\n",
    "        ax.hist(y_calc, color='skyblue', ec='k', bins=30)\n",
    "        if 'E' in item or 'K' in item or 'G' in item:\n",
    "            if 'RH' in item:\n",
    "                item = item[0]+'_{RH}'\n",
    "            ax.set(xlim=(0,70))\n",
    "            ax.set(title=f'${item}$', xlabel=f'Pred. ${item}$ (GPa)', ylabel=f'Frequency')\n",
    "            # ax.set(xlabel=f'Exp. ${item}$ (GPa)', ylabel=f'Calc. ${item}$ (GPa)')\n",
    "        elif 'n_H' in item:\n",
    "            ax.set(title=f'$\\u03BD$', xlabel=f'Exp. $\\u03BD$', ylabel=f'Calc. $\\u03BD$')\n",
    "        else:\n",
    "            ax.set(title=f'$A$', xlabel=f'Exp. $A$', ylabel=f'Calc. $A$')\n",
    "            # ax.set(xlabel=f'Exp. ${item}$', ylabel=f'Calc. ${item}$')\n",
    "        text = f'''Max: {y_calc.max():.2f}\\nMean: {y_calc.mean():.2f}\\nMin: {y_calc.min():.2f}'''\n",
    "        if 'n' in item:\n",
    "            ax.text(0.05, 0.95, text, transform=ax.transAxes, horizontalalignment='left', verticalalignment='top')\n",
    "        else:\n",
    "            ax.text(0.5, 0.95, text, transform=ax.transAxes, horizontalalignment='left', verticalalignment='top')\n",
    "    fig.tight_layout()\n",
    "    if figname is not None:\n",
    "        fig.savefig(figname, dpi=300)\n",
    "    fig.show()"
   ]
  },
  {
   "cell_type": "code",
   "execution_count": null,
   "id": "161a7b58-2e75-4b1c-bed2-bb82171a6484",
   "metadata": {
    "tags": []
   },
   "outputs": [],
   "source": [
    "visuzalize(df, 'SAVE_FILE_NAME.png')"
   ]
  },
  {
   "cell_type": "code",
   "execution_count": null,
   "id": "c4d6689d-2465-4411-ae1a-c474224177da",
   "metadata": {
    "tags": []
   },
   "outputs": [],
   "source": [
    "# Exp-Pred plot of relaxed cell volume and the histogram\n",
    "df['deltaV'] = (df['opt_V']-df['exp_V'])/df['exp_V']*100\n",
    "color = 'skyblue'\n",
    "fig = plt.figure(figsize=(8,4.5))\n",
    "ax = fig.add_subplot(1,2,1)\n",
    "ax.scatter(df['exp_V'], df['opt_V'], c=color, ec='k', linewidth=0.5)\n",
    "ax.plot([0, 13000], [0, 13000], linestyle='dashed', c='k')\n",
    "ax.set(xlabel='exp. $V$ ($\\mathrm{\\mathring{A}}^3$)', ylabel='opt. $V$ ($\\mathrm{\\mathring{A}}^3$)')\n",
    "ax = fig.add_subplot(1,2,2)\n",
    "ax.hist(df['deltaV'], bins=25, ec='k', color=color)\n",
    "ax.set(xlabel='$\\Delta$V (%)', ylabel='Frequency')\n",
    "plt.tight_layout()\n",
    "plt.savefig('SAVE_FILE_NAME.png', dpi=300)"
   ]
  },
  {
   "cell_type": "code",
   "execution_count": null,
   "id": "4fd2e0f7-f8e4-445f-864a-8e997307c2df",
   "metadata": {
    "tags": []
   },
   "outputs": [],
   "source": [
    "# ALL range of histogram\n",
    "plt.rcParams[\"font.family\"] = 'Arial'\n",
    "plt.rcParams[\"font.size\"] = 12\n",
    "fig = plt.figure(figsize=(4,5))\n",
    "ax = fig.add_subplot(111)\n",
    "ax.hist(df['E_RH'], ec='k', color='skyblue', bins=80, linewidth=0.5)\n",
    "ax.set(xlabel='$E_{RH}$ (GPa)', ylabel='Frequency', xlim=(0,100))\n",
    "plt.tight_layout()\n",
    "plt.savefig('SAVE_FILE_NAME.png', dpi=300)"
   ]
  },
  {
   "cell_type": "code",
   "execution_count": null,
   "id": "a0aad738-c1ff-4238-be29-d3e69ce67160",
   "metadata": {
    "tags": []
   },
   "outputs": [],
   "source": [
    "# Enlarged histogram for larger values\n",
    "plt.rcParams[\"font.family\"] = 'Arial'\n",
    "plt.rcParams[\"font.size\"] = 18\n",
    "fig = plt.figure(figsize=(4,3))\n",
    "ax = fig.add_subplot(111)\n",
    "ax.hist(df['E_RH'], ec='k', color='skyblue', bins=80, linewidth=0.5)\n",
    "ax.set(xlabel='$E_{RH}$ (GPa)', ylabel='Frequency', xlim=(25,100), ylim=(0,8))\n",
    "plt.tight_layout()\n",
    "plt.savefig('SAVE_FILE_NAME.png', dpi=300)"
   ]
  },
  {
   "cell_type": "code",
   "execution_count": null,
   "id": "4b213739-cba4-41b6-91ab-0d5f479bfe92",
   "metadata": {
    "tags": []
   },
   "outputs": [],
   "source": [
    "# Enlarged histogram for smaller values\n",
    "plt.rcParams[\"font.family\"] = 'Arial'\n",
    "plt.rcParams[\"font.size\"] = 18\n",
    "fig = plt.figure(figsize=(4,3))\n",
    "ax = fig.add_subplot(111)\n",
    "ax.hist(df['E_RH'], ec='k', color='skyblue', bins=80, linewidth=0.5)\n",
    "ax.set(xlabel='$E_{RH}$ (GPa)', ylabel='Frequency', xlim=(0,20))\n",
    "plt.tight_layout()\n",
    "plt.savefig('SAVE_FILE_NAME.png', dpi=300)"
   ]
  },
  {
   "cell_type": "code",
   "execution_count": 1,
   "id": "63db6944-3eb7-4789-a3fe-850f81665fcc",
   "metadata": {},
   "outputs": [],
   "source": [
    "# df.to_csv('csv/Large_screening.csv')"
   ]
  },
  {
   "cell_type": "code",
   "execution_count": null,
   "id": "a7fea4ad-736c-4862-a07c-2ba819158c28",
   "metadata": {},
   "outputs": [],
   "source": []
  }
 ],
 "metadata": {
  "kernelspec": {
   "display_name": "Python 3 (ipykernel)",
   "language": "python",
   "name": "python3"
  },
  "language_info": {
   "codemirror_mode": {
    "name": "ipython",
    "version": 3
   },
   "file_extension": ".py",
   "mimetype": "text/x-python",
   "name": "python",
   "nbconvert_exporter": "python",
   "pygments_lexer": "ipython3",
   "version": "3.7.0"
  }
 },
 "nbformat": 4,
 "nbformat_minor": 5
}
