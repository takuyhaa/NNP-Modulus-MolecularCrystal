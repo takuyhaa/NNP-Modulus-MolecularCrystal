{
 "cells": [
  {
   "cell_type": "markdown",
   "id": "6ef59a7d-5a13-4a5b-9984-6d1a387a2c21",
   "metadata": {},
   "source": [
    "# Get CIF files from CSD\n",
    "\n",
    "**Instruction**  \n",
    "The aim of this notebook is to obtain crystal structures from Cambridge Structural Database (CSD).  \n",
    "Obtaining CIF files by the following code requires CSD lisence to use CSD Python API."
   ]
  },
  {
   "cell_type": "code",
   "execution_count": 1,
   "id": "8a1691e9-768f-4d33-8e50-761940109108",
   "metadata": {},
   "outputs": [],
   "source": [
    "# Import packages\n",
    "import pandas as pd\n",
    "import numpy as np\n",
    "import pathlib, os\n",
    "from ccdc import io\n",
    "from rdkit import Chem"
   ]
  },
  {
   "cell_type": "code",
   "execution_count": 2,
   "id": "4f46bebb-310a-4a89-80f8-ac05113571e1",
   "metadata": {
    "tags": []
   },
   "outputs": [
    {
     "name": "stdout",
     "output_type": "stream",
     "text": [
      "Processing: 0\n",
      "Processing: 100000\n",
      "Processing: 200000\n",
      "Processing: 300000\n",
      "Processing: 400000\n",
      "Processing: 500000\n",
      "Processing: 600000\n",
      "Processing: 700000\n",
      "Processing: 800000\n",
      "Processing: 900000\n",
      "Processing: 1000000\n",
      "Processing: 1100000\n",
      "Wall time: 33min 36s\n"
     ]
    }
   ],
   "source": [
    "%%time\n",
    "entry_reader = io.EntryReader('CSD')\n",
    "csd_mol_reader = io.MoleculeReader('CSD')\n",
    "\n",
    "#######################################\n",
    "## Get crystal structure's information ##\n",
    "#######################################\n",
    "\n",
    "smiles_list = []\n",
    "refcode_list = []\n",
    "density_list = []\n",
    "temperature_list = []\n",
    "spacegroup_list = []\n",
    "\n",
    "for i in range(len(entry_reader)):\n",
    "    data = entry_reader[i]\n",
    "    if i%100000==0:\n",
    "        print('Processing:', i)\n",
    "    try:\n",
    "        if (data.is_organic is True and\n",
    "            data.calculated_density > 0 and\n",
    "            data.temperature is not None and\n",
    "            data.has_3d_structure is True and\n",
    "            data.r_factor < 10 and \n",
    "            data.pressure is None and \n",
    "            data.disorder_details is None):\n",
    "            \n",
    "            mol_data = csd_mol_reader.molecule(data.identifier)\n",
    "            mol = Chem.MolFromSmiles(mol_data.smiles)\n",
    "            refcode = data.identifier\n",
    "            smiles_list.append(Chem.MolToSmiles(mol))\n",
    "            refcode_list.append(refcode)\n",
    "            density_list.append(data.calculated_density)\n",
    "            temperature_list.append(data.temperature)\n",
    "            spacegroup_list.append(data.crystal.spacegroup_symbol)\n",
    "    except:\n",
    "        continue"
   ]
  },
  {
   "cell_type": "code",
   "execution_count": 3,
   "id": "12f05f38-0233-48e2-8b96-f6b5cfebba4b",
   "metadata": {
    "tags": []
   },
   "outputs": [
    {
     "data": {
      "text/html": [
       "<div>\n",
       "<style scoped>\n",
       "    .dataframe tbody tr th:only-of-type {\n",
       "        vertical-align: middle;\n",
       "    }\n",
       "\n",
       "    .dataframe tbody tr th {\n",
       "        vertical-align: top;\n",
       "    }\n",
       "\n",
       "    .dataframe thead th {\n",
       "        text-align: right;\n",
       "    }\n",
       "</style>\n",
       "<table border=\"1\" class=\"dataframe\">\n",
       "  <thead>\n",
       "    <tr style=\"text-align: right;\">\n",
       "      <th></th>\n",
       "      <th>SMILES</th>\n",
       "      <th>refcode</th>\n",
       "      <th>spacegroup</th>\n",
       "      <th>density</th>\n",
       "      <th>temperature</th>\n",
       "    </tr>\n",
       "  </thead>\n",
       "  <tbody>\n",
       "    <tr>\n",
       "      <th>0</th>\n",
       "      <td>CC1NC(=O)CNC(=O)C(C)NC(=O)C(C)NC(=O)CNC(=O)CNC...</td>\n",
       "      <td>AAGAGG10</td>\n",
       "      <td>P212121</td>\n",
       "      <td>1.348</td>\n",
       "      <td>at -135 deg.C</td>\n",
       "    </tr>\n",
       "    <tr>\n",
       "      <th>1</th>\n",
       "      <td>CC1NC(=O)CNC(=O)CNC(=O)C(C)NC(=O)C(C)NC(=O)CNC...</td>\n",
       "      <td>AAGGAG10</td>\n",
       "      <td>P21</td>\n",
       "      <td>1.396</td>\n",
       "      <td>at -135 deg.C</td>\n",
       "    </tr>\n",
       "    <tr>\n",
       "      <th>2</th>\n",
       "      <td>COc1ccc(C=NO)cc1.COc1ccc(C=NO)cc1</td>\n",
       "      <td>AANHOX01</td>\n",
       "      <td>Pna21</td>\n",
       "      <td>1.318</td>\n",
       "      <td>at 105 K</td>\n",
       "    </tr>\n",
       "    <tr>\n",
       "      <th>3</th>\n",
       "      <td>COc1ccc(C2OC(=O)C(C)C2(C)CC(C)C)cc1</td>\n",
       "      <td>ABABAH</td>\n",
       "      <td>Pbca</td>\n",
       "      <td>1.163</td>\n",
       "      <td>at 193 K</td>\n",
       "    </tr>\n",
       "    <tr>\n",
       "      <th>4</th>\n",
       "      <td>Cc1ccc(-c2nc3ccc4ccccc4c3cc2CCO)cc1</td>\n",
       "      <td>ABABAI</td>\n",
       "      <td>P-1</td>\n",
       "      <td>1.277</td>\n",
       "      <td>at 296 K</td>\n",
       "    </tr>\n",
       "  </tbody>\n",
       "</table>\n",
       "</div>"
      ],
      "text/plain": [
       "                                              SMILES   refcode spacegroup  \\\n",
       "0  CC1NC(=O)CNC(=O)C(C)NC(=O)C(C)NC(=O)CNC(=O)CNC...  AAGAGG10    P212121   \n",
       "1  CC1NC(=O)CNC(=O)CNC(=O)C(C)NC(=O)C(C)NC(=O)CNC...  AAGGAG10        P21   \n",
       "2                  COc1ccc(C=NO)cc1.COc1ccc(C=NO)cc1  AANHOX01      Pna21   \n",
       "3                COc1ccc(C2OC(=O)C(C)C2(C)CC(C)C)cc1    ABABAH       Pbca   \n",
       "4                Cc1ccc(-c2nc3ccc4ccccc4c3cc2CCO)cc1    ABABAI        P-1   \n",
       "\n",
       "   density    temperature  \n",
       "0    1.348  at -135 deg.C  \n",
       "1    1.396  at -135 deg.C  \n",
       "2    1.318       at 105 K  \n",
       "3    1.163       at 193 K  \n",
       "4    1.277       at 296 K  "
      ]
     },
     "execution_count": 3,
     "metadata": {},
     "output_type": "execute_result"
    }
   ],
   "source": [
    "df = pd.DataFrame({\n",
    "    'SMILES': smiles_list, \n",
    "    'refcode': refcode_list,\n",
    "    'spacegroup': spacegroup_list,\n",
    "    'density': density_list,\n",
    "    'temperature': temperature_list, \n",
    "})\n",
    "df.head()"
   ]
  },
  {
   "cell_type": "code",
   "execution_count": 4,
   "id": "b99d9cbf-e5e7-485c-ad7b-256892980b9f",
   "metadata": {
    "tags": []
   },
   "outputs": [
    {
     "name": "stdout",
     "output_type": "stream",
     "text": [
      "Error at 28611\n",
      "Error at 34366\n",
      "Error at 40417\n",
      "Error at 61881\n",
      "Error at 61882\n",
      "Error at 61887\n",
      "Error at 134741\n",
      "Error at 141880\n",
      "Error at 162016\n",
      "Error at 176330\n",
      "Error at 199866\n",
      "Error at 263549\n"
     ]
    }
   ],
   "source": [
    "# Cleaning temperature column\n",
    "data = df['temperature']\n",
    "data = data.str.strip('at')\n",
    "error_list = []\n",
    "for i in range(len(data)):\n",
    "    try:\n",
    "        if 'deg.C' in data[i]:\n",
    "            data[i] = data[i].strip('deg.C').lstrip()\n",
    "            data[i] = float(data[i])+273\n",
    "        elif 'K' and '-' in data[i]:\n",
    "            data[i] = data[i].strip('K').lstrip()\n",
    "            ti, tf = data[i].split('-')\n",
    "            data[i] = (float(ti)+float(tf))/2\n",
    "        elif 'K' in data[i]:\n",
    "            data[i] = data[i].strip('K').lstrip()\n",
    "            data[i] = float(data[i])\n",
    "        else:\n",
    "            print('Error at', i)\n",
    "            error_list.append(i)            \n",
    "    except:\n",
    "        print('Error at', i)\n",
    "        error_list.append(i)"
   ]
  },
  {
   "cell_type": "code",
   "execution_count": 5,
   "id": "a4dc292f-4e69-46ec-af8d-2e1949152d69",
   "metadata": {
    "tags": []
   },
   "outputs": [],
   "source": [
    "# Reflect to dataframe\n",
    "df['temperature'] = data\n",
    "df = df.drop(df.index[error_list])\n",
    "df = df.reset_index(drop=True)"
   ]
  },
  {
   "cell_type": "code",
   "execution_count": 6,
   "id": "27027fd6-bf1b-4cc0-a09f-70da8862d12a",
   "metadata": {
    "tags": []
   },
   "outputs": [
    {
     "data": {
      "text/html": [
       "<div>\n",
       "<style scoped>\n",
       "    .dataframe tbody tr th:only-of-type {\n",
       "        vertical-align: middle;\n",
       "    }\n",
       "\n",
       "    .dataframe tbody tr th {\n",
       "        vertical-align: top;\n",
       "    }\n",
       "\n",
       "    .dataframe thead th {\n",
       "        text-align: right;\n",
       "    }\n",
       "</style>\n",
       "<table border=\"1\" class=\"dataframe\">\n",
       "  <thead>\n",
       "    <tr style=\"text-align: right;\">\n",
       "      <th></th>\n",
       "      <th>SMILES</th>\n",
       "      <th>refcode</th>\n",
       "      <th>spacegroup</th>\n",
       "      <th>density</th>\n",
       "      <th>temperature</th>\n",
       "    </tr>\n",
       "  </thead>\n",
       "  <tbody>\n",
       "    <tr>\n",
       "      <th>0</th>\n",
       "      <td>Cc1ccc(-c2nc3ccc4ccccc4c3cc2CCO)cc1</td>\n",
       "      <td>ABABAI</td>\n",
       "      <td>P-1</td>\n",
       "      <td>1.277</td>\n",
       "      <td>296.0</td>\n",
       "    </tr>\n",
       "    <tr>\n",
       "      <th>1</th>\n",
       "      <td>O=c1[nH]c2ccccc2c(Cl)c1-c1ccccc1</td>\n",
       "      <td>ABABEL</td>\n",
       "      <td>P21/c</td>\n",
       "      <td>1.422</td>\n",
       "      <td>295.0</td>\n",
       "    </tr>\n",
       "    <tr>\n",
       "      <th>2</th>\n",
       "      <td>O=c1sc(=O)n2n1CCCC2.O=c1sc(=O)n2n1CCCC2</td>\n",
       "      <td>ABABEM</td>\n",
       "      <td>P-1</td>\n",
       "      <td>1.507</td>\n",
       "      <td>293.0</td>\n",
       "    </tr>\n",
       "    <tr>\n",
       "      <th>3</th>\n",
       "      <td>O=c1[nH]c2ccccc2c2c1CCc1ccccc1-2</td>\n",
       "      <td>ABABIP</td>\n",
       "      <td>P21/c</td>\n",
       "      <td>1.335</td>\n",
       "      <td>293.0</td>\n",
       "    </tr>\n",
       "    <tr>\n",
       "      <th>4</th>\n",
       "      <td>COc1c(N2CC3CCC[NH2+]C3C2)c(F)cc2c(=O)c(C(=O)O)...</td>\n",
       "      <td>ABABIQ</td>\n",
       "      <td>P1</td>\n",
       "      <td>1.408</td>\n",
       "      <td>296.0</td>\n",
       "    </tr>\n",
       "  </tbody>\n",
       "</table>\n",
       "</div>"
      ],
      "text/plain": [
       "                                              SMILES refcode spacegroup  \\\n",
       "0                Cc1ccc(-c2nc3ccc4ccccc4c3cc2CCO)cc1  ABABAI        P-1   \n",
       "1                   O=c1[nH]c2ccccc2c(Cl)c1-c1ccccc1  ABABEL      P21/c   \n",
       "2            O=c1sc(=O)n2n1CCCC2.O=c1sc(=O)n2n1CCCC2  ABABEM        P-1   \n",
       "3                   O=c1[nH]c2ccccc2c2c1CCc1ccccc1-2  ABABIP      P21/c   \n",
       "4  COc1c(N2CC3CCC[NH2+]C3C2)c(F)cc2c(=O)c(C(=O)O)...  ABABIQ         P1   \n",
       "\n",
       "   density temperature  \n",
       "0    1.277       296.0  \n",
       "1    1.422       295.0  \n",
       "2    1.507       293.0  \n",
       "3    1.335       293.0  \n",
       "4    1.408       296.0  "
      ]
     },
     "execution_count": 6,
     "metadata": {},
     "output_type": "execute_result"
    }
   ],
   "source": [
    "df = df[df['temperature'] > 273]\n",
    "df = df[df['temperature'] < 313]\n",
    "df = df.reset_index(drop=True)\n",
    "df.head()"
   ]
  },
  {
   "cell_type": "code",
   "execution_count": 7,
   "id": "050bab39-98b2-44a9-802d-0e82d7f8d373",
   "metadata": {
    "tags": []
   },
   "outputs": [
    {
     "data": {
      "text/plain": [
       "(111939, 5)"
      ]
     },
     "execution_count": 7,
     "metadata": {},
     "output_type": "execute_result"
    }
   ],
   "source": [
    "df.shape"
   ]
  },
  {
   "cell_type": "code",
   "execution_count": 8,
   "id": "704535bc-2f3d-43c1-a75d-065603b6d4a6",
   "metadata": {
    "tags": []
   },
   "outputs": [],
   "source": [
    "## Download cif file to a local folder\n",
    "def ref2cif(reflist, path):\n",
    "    os.makedirs(path, exist_ok=True)\n",
    "    exclude_list = []\n",
    "    for ref in reflist:\n",
    "        x = entry_reader.entry(ref)\n",
    "        if x.has_3d_structure is True:\n",
    "            x = x.crystal.to_string(format='cif')\n",
    "            cif = pathlib.Path(path+ref+'.cif')\n",
    "            cif.touch()\n",
    "            cif = open(path+ref+'.cif', 'w', encoding='utf_8')\n",
    "            cif.write(x)\n",
    "            cif.close\n",
    "        else:\n",
    "            exclude_list.append(ref)\n",
    "    return exclude_list"
   ]
  },
  {
   "cell_type": "code",
   "execution_count": 9,
   "id": "64758bfc-e1bf-4550-a025-2ca0924ebcbf",
   "metadata": {
    "tags": []
   },
   "outputs": [
    {
     "name": "stdout",
     "output_type": "stream",
     "text": [
      "Wall time: 7min 36s\n"
     ]
    },
    {
     "data": {
      "text/plain": [
       "[]"
      ]
     },
     "execution_count": 9,
     "metadata": {},
     "output_type": "execute_result"
    }
   ],
   "source": [
    "%%time\n",
    "exclude_list = ref2cif(df['refcode'], 'D:datasets/NNP_modulus_rev/')\n",
    "exclude_list"
   ]
  },
  {
   "cell_type": "code",
   "execution_count": null,
   "id": "fd27880c-032f-467d-b2c2-1fbf09f9eea7",
   "metadata": {},
   "outputs": [],
   "source": []
  }
 ],
 "metadata": {
  "kernelspec": {
   "display_name": "Python 3 (ipykernel)",
   "language": "python",
   "name": "python3"
  },
  "language_info": {
   "codemirror_mode": {
    "name": "ipython",
    "version": 3
   },
   "file_extension": ".py",
   "mimetype": "text/x-python",
   "name": "python",
   "nbconvert_exporter": "python",
   "pygments_lexer": "ipython3",
   "version": "3.7.0"
  }
 },
 "nbformat": 4,
 "nbformat_minor": 5
}
