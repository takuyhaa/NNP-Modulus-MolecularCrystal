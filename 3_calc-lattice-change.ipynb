{
 "cells": [
  {
   "cell_type": "markdown",
   "id": "7a733fa2-9282-4a2f-8add-6090603157dd",
   "metadata": {},
   "source": [
    "# Visualize cell volumes of optimized structures\n",
    "**Instruction**  \n",
    "The aim of this notebook is to visualize the cell volumes of optimized structures.  \n",
    "The following code requires the result csv file of `2_calc-elastic-tensors.ipynb` executed on Matlantis.  "
   ]
  },
  {
   "cell_type": "code",
   "execution_count": null,
   "id": "c6acbd59-39ba-4a90-93a2-068a5a3e51bd",
   "metadata": {
    "tags": []
   },
   "outputs": [],
   "source": [
    "# Import Library\n",
    "import pandas as pd\n",
    "import matplotlib.pyplot as plt\n",
    "from utility import *\n",
    "import openpyxl\n",
    "import numpy as np"
   ]
  },
  {
   "cell_type": "code",
   "execution_count": null,
   "id": "7ff8bf9b-8a1f-4c6b-8c6a-3bc6c0de5fda",
   "metadata": {
    "tags": []
   },
   "outputs": [],
   "source": [
    "# Read calclated data\n",
    "df_pfp_angew = prep_df('FILE_PATH.csv')\n",
    "df_chgnet_angew = prep_df('FILE_PATH.csv')\n",
    "# df_chgnet_x23 = prep_df()\n",
    "print(df_pfp_angew.shape)\n",
    "print(df_chgnet_angew.shape)\n",
    "df_pfp_angew.head(2)"
   ]
  },
  {
   "cell_type": "code",
   "execution_count": null,
   "id": "283fc0d3-3b24-446c-892e-3388a4cf410f",
   "metadata": {},
   "outputs": [],
   "source": [
    "from ase import io\n",
    "def get_density(atoms):\n",
    "    cell_volume = atoms.get_volume()\n",
    "    total_mass = sum(atoms.get_masses())\n",
    "    density = total_mass / cell_volume * 1.66053906660\n",
    "    return density\n",
    "\n",
    "def density_columns(df_calc, mode):\n",
    "    opt_dens_list, exp_dens_list = [], []\n",
    "    for refcode in df_calc['refcode'].tolist():\n",
    "        atoms = io.read(f'dataset_spackman/{refcode}.cif')\n",
    "        dens_exp = get_density(atoms)\n",
    "        if mode=='PFP':\n",
    "            atoms = io.read(f'opt_cifs_PFP/{refcode}_opt.cif')\n",
    "        elif mode=='chgnet':\n",
    "            atoms = io.read(f'opt_cifs_chgnet/{refcode}_opt.cif')\n",
    "        dens_opt = get_density(atoms)\n",
    "        opt_dens_list.append(dens_opt)\n",
    "        exp_dens_list.append(dens_exp)\n",
    "    df_calc['opt_density'] = opt_dens_list\n",
    "    df_calc['exp_density'] = exp_dens_list\n",
    "    \n",
    "density_columns(df_pfp_angew, 'PFP')\n",
    "density_columns(df_chgnet_angew, 'chgnet')"
   ]
  },
  {
   "cell_type": "code",
   "execution_count": null,
   "id": "88cc1c95-a505-4879-b612-9c3817fee582",
   "metadata": {
    "tags": []
   },
   "outputs": [],
   "source": [
    "df_pfp_angew[['refcode', 'exp_V', 'opt_V', 'deltaV']].head()"
   ]
  },
  {
   "cell_type": "code",
   "execution_count": null,
   "id": "1368cfa2-09a7-4c6b-afe9-c677e411d2a3",
   "metadata": {
    "tags": []
   },
   "outputs": [],
   "source": [
    "# Visualize lattice change (set filename!!)\n",
    "vis_opt_lattice(df=df_pfp_angew, color='skyblue', save=True, save_name='SAVE_FIG_NAME.png')\n",
    "vis_opt_lattice(df=df_chgnet_angew, color='gray', save=True, save_name='SAVE_FIG_NAME.png')"
   ]
  },
  {
   "cell_type": "code",
   "execution_count": null,
   "id": "8d3009a0-a81b-4476-a2a2-8464638df581",
   "metadata": {},
   "outputs": [],
   "source": [
    "# Read HF results\n",
    "data = openpyxl.load_workbook('../dataset/ange202110716-sup-0001-si/S-HF-3c-elastic-tensors.xlsx')\n",
    "name = data.sheetnames[1]\n",
    "sheet = data[name]\n",
    "deltaV_list, refcode_list = [], []\n",
    "for i in np.arange(4,48):\n",
    "    deltaV = sheet.cell(row=i, column=6).value\n",
    "    refcode = sheet.cell(row=i, column=3).value\n",
    "    deltaV_list.append(deltaV)\n",
    "    refcode_list.append(refcode)\n",
    "    \n",
    "df_hf_angew = pd.DataFrame({'refcode': refcode_list, 'deltaV': deltaV_list})\n",
    "df_hf_angew.head(2)"
   ]
  },
  {
   "cell_type": "code",
   "execution_count": null,
   "id": "7dd44bc3-9472-4908-95f6-5a71ea16f7a6",
   "metadata": {
    "tags": []
   },
   "outputs": [],
   "source": [
    "df_pfp_angew = arrange_hf(df_pfp_angew, df_hf_angew)\n",
    "df_chgnet_angew = arrange_hf(df_chgnet_angew, df_hf_angew)"
   ]
  },
  {
   "cell_type": "code",
   "execution_count": null,
   "id": "b28cc5aa-bcf5-43bf-afb0-78d80f6b6a18",
   "metadata": {
    "tags": []
   },
   "outputs": [],
   "source": [
    "plt.rcParams[\"font.family\"] = 'Arial'\n",
    "plt.rcParams[\"font.size\"] = 13\n",
    "\n",
    "size = 80\n",
    "alpha = 1\n",
    "ec = 'k'\n",
    "\n",
    "plt.figure(figsize=(6,5))\n",
    "plt.scatter(df_pfp_angew['exp_V'], df_pfp_angew['opt_V_HF'], \n",
    "            label='S-HF-3c', ec=ec, c='orange', s=size, alpha=alpha)\n",
    "plt.scatter(df_chgnet_angew['exp_V'], df_chgnet_angew['opt_V'], \n",
    "            label='CHGNet', c='gray', ec=ec, s=size, alpha=alpha)\n",
    "plt.scatter(df_pfp_angew['exp_V'], df_pfp_angew['opt_V'], \n",
    "            label='PFP', c='skyblue', ec=ec, s=size, alpha=alpha)\n",
    "plt.plot([0, 8000], [0, 8000], c='k', linestyle='dashed')\n",
    "plt.legend()\n",
    "plt.xlabel(r'exp. $V$ ($\\mathrm{\\mathring{A}}^3$)')\n",
    "plt.ylabel(r'opt. $V$ ($\\mathrm{\\mathring{A}}^3$)')\n",
    "plt.tight_layout()\n",
    "\n",
    "plt.savefig('SAVE_FIG_NAME.png', dpi=300)"
   ]
  },
  {
   "cell_type": "code",
   "execution_count": null,
   "id": "0f236f07-9502-4f45-b3d3-ca08e9287707",
   "metadata": {
    "tags": []
   },
   "outputs": [],
   "source": [
    "plt.rcParams[\"font.family\"] = 'Arial'\n",
    "plt.rcParams[\"font.size\"] = 15\n",
    "size = 100\n",
    "plt.figure(figsize=(3.5,3))\n",
    "plt.scatter(df_pfp_angew['exp_V'], df_pfp_angew['opt_V_HF'], \n",
    "            label='S-HF-3c', ec=ec, c='orange', s=size, alpha=alpha)\n",
    "plt.scatter(df_chgnet_angew['exp_V'], df_chgnet_angew['opt_V'], \n",
    "            label='CHGNet', c='gray', ec=ec, s=size, alpha=alpha)\n",
    "plt.scatter(df_pfp_angew['exp_V'], df_pfp_angew['opt_V'], \n",
    "            label='PFP', c='skyblue', ec=ec, s=size, alpha=alpha)\n",
    "plt.plot([0, 8000], [0, 8000], c='k', linestyle='dashed')\n",
    "# plt.legend()\n",
    "plt.xlabel(r'exp. $V$ ($\\mathrm{\\mathring{A}}^3$)')\n",
    "plt.ylabel(r'opt. $V$ ($\\mathrm{\\mathring{A}}^3$)')\n",
    "plt.xlim(0, 2000)\n",
    "plt.ylim(0, 2000)\n",
    "plt.tight_layout()\n",
    "plt.savefig('SAVE_FIG_NAME.png', dpi=300)"
   ]
  },
  {
   "cell_type": "code",
   "execution_count": null,
   "id": "bc77d334-1eb4-47b8-8eb0-180ee5df5bd5",
   "metadata": {},
   "outputs": [],
   "source": []
  }
 ],
 "metadata": {
  "kernelspec": {
   "display_name": "Python 3 (ipykernel)",
   "language": "python",
   "name": "python3"
  },
  "language_info": {
   "codemirror_mode": {
    "name": "ipython",
    "version": 3
   },
   "file_extension": ".py",
   "mimetype": "text/x-python",
   "name": "python",
   "nbconvert_exporter": "python",
   "pygments_lexer": "ipython3",
   "version": "3.7.0"
  }
 },
 "nbformat": 4,
 "nbformat_minor": 5
}
