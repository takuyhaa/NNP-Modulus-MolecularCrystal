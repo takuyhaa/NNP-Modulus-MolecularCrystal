{
 "cells": [
  {
   "cell_type": "markdown",
   "id": "251e9182-9944-445c-a72b-7baf99ad3eaa",
   "metadata": {
    "tags": []
   },
   "source": [
    "# Preparation of executable dataset\n",
    "**Instruction**  \n",
    "The aim of this notebook is to prepare for executable dataset using the reference (https://doi.org/10.1002/anie.202110716).  \n",
    "Please download the supplementary files from the refenrece.\n",
    "Downloading cifs by the following code requires CSD lisence to use CSD Python API (https://www.ccdc.cam.ac.uk/solutions/csd-licence/).\n",
    "\n",
    "**Contents**\n",
    "1. Get stiffness matrix and save as csv\n",
    "1. Get cifs\n",
    "\n",
    "**Note**  \n",
    "I edited the refcode 'QQQSIG11' into 'QQQCIG11' in 'S-HF-3c-elastic-tensors.xlsx' due to a possibility of typo.  \n",
    "ICSD data cannot be downloaded by the following code, please dowload independently."
   ]
  },
  {
   "cell_type": "markdown",
   "id": "5dab0110-3cc8-4af8-aedc-edf00a37f648",
   "metadata": {
    "tags": []
   },
   "source": [
    "## 1. Get stiffness matrix and save as csv"
   ]
  },
  {
   "cell_type": "code",
   "execution_count": 3,
   "id": "48e1ac0e-95dc-4a68-a373-15e2173593e9",
   "metadata": {
    "tags": []
   },
   "outputs": [],
   "source": [
    "import openpyxl, json\n",
    "from utility import *\n",
    "import pandas as pd"
   ]
  },
  {
   "cell_type": "code",
   "execution_count": 46,
   "id": "965b586b-2333-4c80-a615-6e1ec89c380c",
   "metadata": {
    "tags": []
   },
   "outputs": [],
   "source": [
    "# Experimental\n",
    "path_common = '../dataset/ange202110716-sup-0001-si/'\n",
    "data_exp = openpyxl.load_workbook(path_common + 'Experimental-elastic-tensors.xlsx')\n",
    "sheets_exp = data_exp.sheetnames[2:]\n",
    "\n",
    "# S-HF-3c\n",
    "data_hf = openpyxl.load_workbook(path_common + 'S-HF-3c-elastic-tensors.xlsx')\n",
    "sheets_hf = data_hf.sheetnames[2:]\n",
    "\n",
    "# DFT\n",
    "data_dft = openpyxl.load_workbook(path_common + 'Theoretical-elastic-tensors.xlsx')\n",
    "sheets_dft = data_dft.sheetnames[1:]\n",
    "\n",
    "df = pd.DataFrame()\n",
    "df = pd.concat([df, get_tersor(data_exp, sheets_exp, 'Exp')])\n",
    "df = pd.concat([df, get_tersor(data_hf, sheets_hf, 'S-HF-3c')])\n",
    "df = pd.concat([df, get_tersor(data_dft, sheets_dft, 'DFT')])"
   ]
  },
  {
   "cell_type": "code",
   "execution_count": 6,
   "id": "984c279a-3f6c-46cc-bb41-53db95520e2b",
   "metadata": {
    "tags": []
   },
   "outputs": [],
   "source": [
    "# df.to_csv('../dataset/stiffness_tensors.csv', index=0)"
   ]
  },
  {
   "cell_type": "markdown",
   "id": "7ed48b8c-ba97-44f3-8711-65b46de091a0",
   "metadata": {},
   "source": [
    "# 2. Get cifs"
   ]
  },
  {
   "cell_type": "code",
   "execution_count": 47,
   "id": "c78e838c-189c-4ec1-b980-2f41aa39d533",
   "metadata": {
    "tags": []
   },
   "outputs": [],
   "source": [
    "refcode_list = []\n",
    "for i in np.arange(4, 48):\n",
    "    refcode = data_hf[data_hf.sheetnames[1]].cell(row=i, column=3).value\n",
    "    refcode_list.append(refcode)"
   ]
  },
  {
   "cell_type": "code",
   "execution_count": 48,
   "id": "97caeec6-98ff-4c9a-bfe6-ffb5db24c13f",
   "metadata": {
    "tags": []
   },
   "outputs": [],
   "source": [
    "from ccdc import io\n",
    "import pathlib, os\n",
    "entry_reader = io.EntryReader('CSD')"
   ]
  },
  {
   "cell_type": "code",
   "execution_count": 49,
   "id": "1aa96af8-e49d-4862-ad3d-1a49c09620f9",
   "metadata": {
    "tags": []
   },
   "outputs": [
    {
     "name": "stdout",
     "output_type": "stream",
     "text": [
      "ICSD-66643\n",
      "ICSD-94\n",
      "ICSD-200454\n"
     ]
    }
   ],
   "source": [
    "path = './test/'\n",
    "\n",
    "for ref in refcode_list:\n",
    "    try:\n",
    "        os.makedirs(path, exist_ok=True)\n",
    "        data = entry_reader.entry(ref)\n",
    "        data = data.crystal.to_string(format='cif')\n",
    "        cif = pathlib.Path(path+ref+'.cif')\n",
    "        cif.touch()\n",
    "        cif = open(path+ref+'.cif', 'w', encoding='utf_8')\n",
    "        cif.write(data)\n",
    "        cif.close\n",
    "    except:\n",
    "        print(ref)"
   ]
  },
  {
   "cell_type": "code",
   "execution_count": null,
   "id": "44551d9c-a3cf-4a5d-ae90-e7b2dcb1badb",
   "metadata": {},
   "outputs": [],
   "source": []
  }
 ],
 "metadata": {
  "kernelspec": {
   "display_name": "Python 3 (ipykernel)",
   "language": "python",
   "name": "python3"
  },
  "language_info": {
   "codemirror_mode": {
    "name": "ipython",
    "version": 3
   },
   "file_extension": ".py",
   "mimetype": "text/x-python",
   "name": "python",
   "nbconvert_exporter": "python",
   "pygments_lexer": "ipython3",
   "version": "3.7.0"
  }
 },
 "nbformat": 4,
 "nbformat_minor": 5
}
